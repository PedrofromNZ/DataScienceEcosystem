{
 "cells": [
  {
   "cell_type": "markdown",
   "id": "2ffcf8db",
   "metadata": {},
   "source": [
    "# Download the dataset "
   ]
  },
  {
   "cell_type": "code",
   "execution_count": 41,
   "id": "4df33e45",
   "metadata": {},
   "outputs": [
    {
     "name": "stdout",
     "output_type": "stream",
     "text": [
      "Dataset downloaded successfully.\n"
     ]
    }
   ],
   "source": [
    "import requests\n",
    "\n",
    "# URL of the dataset\n",
    "url = \"https://cf-courses-data.s3.us.cloud-object-storage.appdomain.cloud/IBM-DS0321EN-SkillsNetwork/datasets/spacex_launch_dash.csv\"\n",
    "\n",
    "# Download the dataset\n",
    "response = requests.get(url)\n",
    "\n",
    "# Save the dataset locally\n",
    "with open(\"spacex_launch_dash.csv\", \"wb\") as file:\n",
    "    file.write(response.content)\n",
    "\n",
    "print(\"Dataset downloaded successfully.\")\n"
   ]
  },
  {
   "cell_type": "markdown",
   "id": "66a5538c",
   "metadata": {},
   "source": [
    "# Download the skeleton dash app"
   ]
  },
  {
   "cell_type": "code",
   "execution_count": 42,
   "id": "3b9fbb59",
   "metadata": {},
   "outputs": [
    {
     "name": "stdout",
     "output_type": "stream",
     "text": [
      "Dash app skeleton downloaded successfully.\n"
     ]
    }
   ],
   "source": [
    "# URL of the Dash app skeleton\n",
    "app_url = \"https://cf-courses-data.s3.us.cloud-object-storage.appdomain.cloud/IBM-DS0321EN-SkillsNetwork/labs/module_3/spacex_dash_app.py\"\n",
    "\n",
    "# Download the Dash app script\n",
    "response = requests.get(app_url)\n",
    "\n",
    "# Save the script locally\n",
    "with open(\"spacex_dash_app.py\", \"wb\") as file:\n",
    "    file.write(response.content)\n",
    "\n",
    "print(\"Dash app skeleton downloaded successfully.\")\n"
   ]
  },
  {
   "cell_type": "markdown",
   "id": "a4eb079b",
   "metadata": {},
   "source": [
    "# Run the dash app"
   ]
  },
  {
   "cell_type": "code",
   "execution_count": 43,
   "id": "6e3787da",
   "metadata": {},
   "outputs": [
    {
     "name": "stdout",
     "output_type": "stream",
     "text": [
      "Requirement already satisfied: pandas in c:\\anaconda\\lib\\site-packages (1.5.3)\n",
      "Requirement already satisfied: dash in c:\\anaconda\\lib\\site-packages (2.18.2)\n",
      "Requirement already satisfied: pytz>=2020.1 in c:\\anaconda\\lib\\site-packages (from pandas) (2022.7)\n",
      "Requirement already satisfied: python-dateutil>=2.8.1 in c:\\anaconda\\lib\\site-packages (from pandas) (2.8.2)\n",
      "Requirement already satisfied: numpy>=1.21.0 in c:\\anaconda\\lib\\site-packages (from pandas) (1.23.5)\n",
      "Requirement already satisfied: retrying in c:\\anaconda\\lib\\site-packages (from dash) (1.3.4)\n",
      "Requirement already satisfied: Flask<3.1,>=1.0.4 in c:\\anaconda\\lib\\site-packages (from dash) (2.2.2)\n",
      "Requirement already satisfied: nest-asyncio in c:\\anaconda\\lib\\site-packages (from dash) (1.5.6)\n",
      "Requirement already satisfied: typing-extensions>=4.1.1 in c:\\anaconda\\lib\\site-packages (from dash) (4.9.0)\n",
      "Requirement already satisfied: plotly>=5.0.0 in c:\\anaconda\\lib\\site-packages (from dash) (5.9.0)\n",
      "Requirement already satisfied: dash-html-components==2.0.0 in c:\\anaconda\\lib\\site-packages (from dash) (2.0.0)\n",
      "Requirement already satisfied: dash-table==5.0.0 in c:\\anaconda\\lib\\site-packages (from dash) (5.0.0)\n",
      "Requirement already satisfied: importlib-metadata in c:\\anaconda\\lib\\site-packages (from dash) (4.11.3)\n",
      "Requirement already satisfied: requests in c:\\anaconda\\lib\\site-packages (from dash) (2.32.3)\n",
      "Requirement already satisfied: setuptools in c:\\anaconda\\lib\\site-packages (from dash) (65.6.3)\n",
      "Requirement already satisfied: dash-core-components==2.0.0 in c:\\anaconda\\lib\\site-packages (from dash) (2.0.0)\n",
      "Requirement already satisfied: Werkzeug<3.1 in c:\\anaconda\\lib\\site-packages (from dash) (2.2.2)\n",
      "Requirement already satisfied: itsdangerous>=2.0 in c:\\anaconda\\lib\\site-packages (from Flask<3.1,>=1.0.4->dash) (2.0.1)\n",
      "Requirement already satisfied: Jinja2>=3.0 in c:\\anaconda\\lib\\site-packages (from Flask<3.1,>=1.0.4->dash) (3.1.2)\n",
      "Requirement already satisfied: click>=8.0 in c:\\anaconda\\lib\\site-packages (from Flask<3.1,>=1.0.4->dash) (8.0.4)\n",
      "Requirement already satisfied: tenacity>=6.2.0 in c:\\anaconda\\lib\\site-packages (from plotly>=5.0.0->dash) (8.0.1)\n",
      "Requirement already satisfied: six>=1.5 in c:\\anaconda\\lib\\site-packages (from python-dateutil>=2.8.1->pandas) (1.16.0)\n",
      "Requirement already satisfied: MarkupSafe>=2.1.1 in c:\\anaconda\\lib\\site-packages (from Werkzeug<3.1->dash) (2.1.1)\n",
      "Requirement already satisfied: zipp>=0.5 in c:\\anaconda\\lib\\site-packages (from importlib-metadata->dash) (3.11.0)\n",
      "Requirement already satisfied: urllib3<3,>=1.21.1 in c:\\anaconda\\lib\\site-packages (from requests->dash) (1.26.14)\n",
      "Requirement already satisfied: idna<4,>=2.5 in c:\\anaconda\\lib\\site-packages (from requests->dash) (3.4)\n",
      "Requirement already satisfied: charset-normalizer<4,>=2 in c:\\anaconda\\lib\\site-packages (from requests->dash) (2.0.4)\n",
      "Requirement already satisfied: certifi>=2017.4.17 in c:\\anaconda\\lib\\site-packages (from requests->dash) (2024.2.2)\n",
      "Requirement already satisfied: colorama in c:\\anaconda\\lib\\site-packages (from click>=8.0->Flask<3.1,>=1.0.4->dash) (0.4.6)\n"
     ]
    }
   ],
   "source": [
    "!pip install pandas dash\n"
   ]
  },
  {
   "cell_type": "code",
   "execution_count": 44,
   "id": "452e8d49",
   "metadata": {},
   "outputs": [
    {
     "data": {
      "text/plain": [
       "<Popen: returncode: None args: ['python', 'spacex_dash_app.py']>"
      ]
     },
     "execution_count": 44,
     "metadata": {},
     "output_type": "execute_result"
    }
   ],
   "source": [
    "import subprocess\n",
    "\n",
    "# Run the Dash app in a new subprocess\n",
    "subprocess.Popen([\"python\", \"spacex_dash_app.py\"])\n",
    "\n",
    "\n"
   ]
  },
  {
   "cell_type": "markdown",
   "id": "75694ac3",
   "metadata": {},
   "source": [
    "# By going to a new browser tab, I`m able to see the dashboards. = http://127.0.0.1:8050/"
   ]
  },
  {
   "cell_type": "markdown",
   "id": "d7d05d67",
   "metadata": {},
   "source": [
    "### Task 1: Add a launch site drop-down input component "
   ]
  },
  {
   "cell_type": "code",
   "execution_count": 45,
   "id": "edf54ee2",
   "metadata": {},
   "outputs": [
    {
     "data": {
      "text/plain": [
       "Dropdown(options=[{'label': 'All Sites', 'value': 'ALL'}, {'label': 'CCAFS LC-40', 'value': 'CCAFS LC-40'}, {'label': 'CCAFS SLC-40', 'value': 'CCAFS SLC-40'}, {'label': 'KSC LC-39A', 'value': 'KSC LC-39A'}, {'label': 'VAFB SLC-4E', 'value': 'VAFB SLC-4E'}], value='ALL', searchable=True, placeholder='Select a Launch Site here', id='site-dropdown')"
      ]
     },
     "execution_count": 45,
     "metadata": {},
     "output_type": "execute_result"
    }
   ],
   "source": [
    "dcc.Dropdown(\n",
    "    id='site-dropdown',\n",
    "    options=[\n",
    "        {'label': 'All Sites', 'value': 'ALL'},\n",
    "        {'label': 'CCAFS LC-40', 'value': 'CCAFS LC-40'},\n",
    "        {'label': 'CCAFS SLC-40', 'value': 'CCAFS SLC-40'},\n",
    "        {'label': 'KSC LC-39A', 'value': 'KSC LC-39A'},\n",
    "        {'label': 'VAFB SLC-4E', 'value': 'VAFB SLC-4E'}\n",
    "    ],\n",
    "    value='ALL',\n",
    "    placeholder=\"Select a Launch Site here\",\n",
    "    searchable=True\n",
    ")\n"
   ]
  },
  {
   "cell_type": "markdown",
   "id": "263388bb",
   "metadata": {},
   "source": [
    "### Task 2: add a callback function for success pie chart"
   ]
  },
  {
   "cell_type": "code",
   "execution_count": 46,
   "id": "fb0bbf53",
   "metadata": {},
   "outputs": [],
   "source": [
    "@app.callback(\n",
    "    Output('success-pie-chart', 'figure'),\n",
    "    Input('site-dropdown', 'value')\n",
    ")\n",
    "def get_pie_chart(entered_site):\n",
    "    filtered_df = spacex_df\n",
    "    if entered_site == 'ALL':\n",
    "        fig = px.pie(\n",
    "            filtered_df,\n",
    "            values='class',\n",
    "            names='Launch Site',\n",
    "            title='Total Success Launches by Site'\n",
    "        )\n",
    "    else:\n",
    "        filtered_df = filtered_df[filtered_df['Launch Site'] == entered_site]\n",
    "        fig = px.pie(\n",
    "            filtered_df,\n",
    "            names='class',\n",
    "            title=f\"Total Success Launches for site {entered_site}\"\n",
    "        )\n",
    "    return fig\n"
   ]
  },
  {
   "cell_type": "markdown",
   "id": "f58ed756",
   "metadata": {},
   "source": [
    "### Task 3: add a payload range slider"
   ]
  },
  {
   "cell_type": "code",
   "execution_count": 47,
   "id": "264373c8",
   "metadata": {},
   "outputs": [],
   "source": [
    "dcc.RangeSlider(\n",
    "    id='payload-slider',\n",
    "    min=0,\n",
    "    max=10000,\n",
    "    step=1000,\n",
    "    marks={i: str(i) for i in range(0, 10001, 1000)},\n",
    "    value=[0, 10000]\n",
    ")\n",
    "\n",
    "@app.callback(\n",
    "    Output('success-pie-chart', 'figure'),\n",
    "    [Input('site-dropdown', 'value'),\n",
    "     Input('payload-slider', 'value')]\n",
    ")\n",
    "def update_pie_chart(entered_site, payload_range):\n",
    "    filtered_df = spacex_df\n",
    "    # Filter by site\n",
    "    if entered_site != 'ALL':\n",
    "        filtered_df = filtered_df[filtered_df['Launch Site'] == entered_site]\n",
    "    \n",
    "    # Filter by payload range\n",
    "    min_payload, max_payload = payload_range\n",
    "    filtered_df = filtered_df[(filtered_df['Payload Mass (kg)'] >= min_payload) & \n",
    "                              (filtered_df['Payload Mass (kg)'] <= max_payload)]\n",
    "    \n",
    "    # Create pie chart\n",
    "    fig = px.pie(\n",
    "        filtered_df,\n",
    "        names='class',\n",
    "        title=f\"Success Launches for site {entered_site} with payload range {min_payload} - {max_payload} kg\"\n",
    "    )\n",
    "    return fig\n",
    "\n"
   ]
  },
  {
   "cell_type": "markdown",
   "id": "1b1a732e",
   "metadata": {},
   "source": [
    "### Task 4: add callback for payload scatter chart"
   ]
  },
  {
   "cell_type": "code",
   "execution_count": 50,
   "id": "8307961f",
   "metadata": {},
   "outputs": [
    {
     "data": {
      "text/html": [
       "\n",
       "        <iframe\n",
       "            width=\"100%\"\n",
       "            height=\"650\"\n",
       "            src=\"http://127.0.0.1:8051/\"\n",
       "            frameborder=\"0\"\n",
       "            allowfullscreen\n",
       "            \n",
       "        ></iframe>\n",
       "        "
      ],
      "text/plain": [
       "<IPython.lib.display.IFrame at 0x28b35842e30>"
      ]
     },
     "metadata": {},
     "output_type": "display_data"
    }
   ],
   "source": [
    "import dash\n",
    "from dash import dcc, html\n",
    "import plotly.express as px\n",
    "\n",
    "app = dash.Dash(__name__)\n",
    "\n",
    "# Define your layout here\n",
    "app.layout = html.Div([\n",
    "    html.H1(\"SpaceX Launch Success Dashboard\"),\n",
    "    \n",
    "    # Dropdown for selecting the launch site\n",
    "    dcc.Dropdown(\n",
    "        id='site-dropdown',\n",
    "        options=[\n",
    "            {'label': 'All Sites', 'value': 'ALL'},\n",
    "            {'label': 'CCAFS LC-40', 'value': 'CCAFS LC-40'},\n",
    "            {'label': 'CCAFS SLC-40', 'value': 'CCAFS SLC-40'},\n",
    "            {'label': 'KSC LC-39A', 'value': 'KSC LC-39A'},\n",
    "            {'label': 'VAFB SLC-4E', 'value': 'VAFB SLC-4E'}\n",
    "        ],\n",
    "        value='ALL',\n",
    "        placeholder=\"Select a Launch Site here\",\n",
    "        searchable=True\n",
    "    ),\n",
    "    \n",
    "    # RangeSlider for payload mass range\n",
    "    dcc.RangeSlider(\n",
    "        id='payload-slider',\n",
    "        min=0,\n",
    "        max=10000,\n",
    "        step=1000,\n",
    "        marks={i: str(i) for i in range(0, 10001, 1000)},\n",
    "        value=[0, 10000]\n",
    "    ),\n",
    "    \n",
    "    # Pie chart for success launches\n",
    "    dcc.Graph(id='success-pie-chart'),\n",
    "    \n",
    "    # Scatter chart for payload vs success\n",
    "    dcc.Graph(id='scatter-chart')\n",
    "])\n",
    "\n",
    "# Your callbacks here...\n",
    "if __name__ == '__main__':\n",
    "    app.run_server(debug=True, port=8051)\n",
    "\n"
   ]
  },
  {
   "cell_type": "code",
   "execution_count": 53,
   "id": "903b8242",
   "metadata": {},
   "outputs": [
    {
     "name": "stdout",
     "output_type": "stream",
     "text": [
      "   Unnamed: 0  Flight Number  Launch Site  class  Payload Mass (kg)  \\\n",
      "0           0              1  CCAFS LC-40      0                0.0   \n",
      "1           1              2  CCAFS LC-40      0                0.0   \n",
      "2           2              3  CCAFS LC-40      0              525.0   \n",
      "3           3              4  CCAFS LC-40      0              500.0   \n",
      "4           4              5  CCAFS LC-40      0              677.0   \n",
      "\n",
      "  Booster Version Booster Version Category  \n",
      "0  F9 v1.0  B0003                     v1.0  \n",
      "1  F9 v1.0  B0004                     v1.0  \n",
      "2  F9 v1.0  B0005                     v1.0  \n",
      "3  F9 v1.0  B0006                     v1.0  \n",
      "4  F9 v1.0  B0007                     v1.0  \n"
     ]
    }
   ],
   "source": [
    "import pandas as pd\n",
    "\n",
    "# Load the dataset (make sure this line is executed before the callbacks)\n",
    "spacex_df = pd.read_csv('spacex_launch_dash.csv')\n",
    "\n",
    "# Check if the data is correctly loaded\n",
    "print(spacex_df.head())\n"
   ]
  }
 ],
 "metadata": {
  "kernelspec": {
   "display_name": "Python 3 (ipykernel)",
   "language": "python",
   "name": "python3"
  },
  "language_info": {
   "codemirror_mode": {
    "name": "ipython",
    "version": 3
   },
   "file_extension": ".py",
   "mimetype": "text/x-python",
   "name": "python",
   "nbconvert_exporter": "python",
   "pygments_lexer": "ipython3",
   "version": "3.10.9"
  }
 },
 "nbformat": 4,
 "nbformat_minor": 5
}
